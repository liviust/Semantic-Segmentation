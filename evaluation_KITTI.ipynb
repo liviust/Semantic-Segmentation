{
 "cells": [
  {
   "cell_type": "code",
   "execution_count": 1,
   "metadata": {
    "collapsed": true
   },
   "outputs": [],
   "source": [
    "import time\n",
    "from glob import glob\n",
    "import os, argparse\n",
    "import tensorflow as tf\n",
    "import numpy as np\n",
    "import scipy.misc\n",
    "import cv2\n",
    "import matplotlib.pyplot as plt\n",
    "\n",
    "import helper\n",
    "import labels"
   ]
  },
  {
   "cell_type": "code",
   "execution_count": 2,
   "metadata": {
    "collapsed": true
   },
   "outputs": [],
   "source": [
    "# Make sure you've already frozen the graph of the KITTI model\n",
    "def load_graph(frozen_graph_filename='checks_KITTI/frozen_model.pb'):\n",
    "    # We load the protobuf file from the disk and parse it to retrieve the \n",
    "    # unserialized graph_def\n",
    "    with tf.gfile.GFile(frozen_graph_filename, \"rb\") as f:\n",
    "        graph_def = tf.GraphDef()\n",
    "        graph_def.ParseFromString(f.read())\n",
    "\n",
    "    # Then, we import the graph_def into a new Graph and returns it \n",
    "    with tf.Graph().as_default() as graph:\n",
    "        # The name var will prefix every op/nodes in your graph\n",
    "        # Since we load everything in a new graph, this is not needed\n",
    "        tf.import_graph_def(graph_def, name=\"prefix\")\n",
    "    return graph"
   ]
  },
  {
   "cell_type": "code",
   "execution_count": 3,
   "metadata": {},
   "outputs": [],
   "source": [
    "#You will need to change the data folder to direct to the KITTI training set\n",
    "data_folder = '/Volumes/Seagate/Code/udacity_SDC/term3/CarND-Semantic-Segmentation/data/training'\n",
    "orig_shape = (375, 1242)\n",
    "img_shape = (256, 856)\n",
    "mask_shape = img_shape\n",
    "get_batches_fn = helper.gen_batch_function_KITTI(data_folder=data_folder, image_shape=img_shape, \n",
    "                                                 mask_shape=img_shape, num_classes=2, mode='test')\n",
    "batch_size = 10\n",
    "\n",
    "tf.reset_default_graph()\n",
    "graph = load_graph(frozen_graph_filename='checks_KITTI/frozen_model.pb')\n",
    "\n",
    "labels = []\n",
    "predictions = []\n",
    "\n",
    "with tf.Session(graph=graph) as sess:\n",
    "    x = graph.get_tensor_by_name(\"prefix/x:0\")\n",
    "    train_mode = graph.get_tensor_by_name(\"prefix/train_mode:0\")\n",
    "    preds = graph.get_tensor_by_name(\"prefix/preds:0\")\n",
    "    \n",
    "    #cnt = 0\n",
    "    all_preds = None\n",
    "    all_x = None\n",
    "    all_y = None\n",
    "    for batch_x, batch_y, _ in get_batches_fn(batch_size, mode='val'):\n",
    "        feed_dict ={x: batch_x,\n",
    "                train_mode: False}\n",
    "        batch_preds = sess.run(preds,feed_dict)\n",
    "        \n",
    "        if all_preds is not None:\n",
    "            all_preds = np.concatenate((all_preds, batch_preds), axis=0)\n",
    "            all_x = np.concatenate((all_x, batch_x), axis=0)\n",
    "            all_y = np.concatenate((all_y, batch_y), axis=0)\n",
    "\n",
    "        else:\n",
    "            all_preds = batch_preds\n",
    "            all_x = batch_x\n",
    "            all_y = batch_y\n",
    "        \n",
    "        #cnt += 1\n",
    "        #if cnt > 1: \n",
    "           # break"
   ]
  },
  {
   "cell_type": "code",
   "execution_count": 4,
   "metadata": {},
   "outputs": [
    {
     "name": "stdout",
     "output_type": "stream",
     "text": [
      "Percent of road labelled correctly: 98.26%\n",
      "Percent of background labelled correctly: 98.82%\n"
     ]
    }
   ],
   "source": [
    "correct_road = 0\n",
    "correct_void = 0\n",
    "for i in range(len(all_preds)):\n",
    "    pred = np.argmax(all_preds[i], axis=-1)\n",
    "    label = np.argmax(all_y[i], axis=-1)\n",
    "    combined = pred + label\n",
    "    values, cnts = np.unique(combined, return_counts=True)\n",
    "    n_cor_road = 0\n",
    "    n_cor_void = 0\n",
    "    for j in range(len(values)):\n",
    "        if values[j] == 0:\n",
    "            n_cor_road = cnts[j]\n",
    "        if values[j] == 2:\n",
    "            n_cor_void = cnts[j]\n",
    "    #[n_cor_road, n_wrong, n_cor_void]\n",
    "    per_road = n_cor_road / len(label[label==0])\n",
    "    per_void = n_cor_void / len(label[label==1])\n",
    "    correct_road += per_road\n",
    "    correct_void += per_void\n",
    "\n",
    "correct_road /= len(all_preds)\n",
    "correct_void /= len(all_preds)\n",
    "\n",
    "print('Percent of road labelled correctly: {:.2f}%'.format(correct_road*100))\n",
    "print('Percent of background labelled correctly: {:.2f}%'.format(correct_void*100))"
   ]
  }
 ],
 "metadata": {
  "kernelspec": {
   "display_name": "Python 3",
   "language": "python",
   "name": "python3"
  },
  "language_info": {
   "codemirror_mode": {
    "name": "ipython",
    "version": 3
   },
   "file_extension": ".py",
   "mimetype": "text/x-python",
   "name": "python",
   "nbconvert_exporter": "python",
   "pygments_lexer": "ipython3",
   "version": "3.5.4"
  }
 },
 "nbformat": 4,
 "nbformat_minor": 2
}
